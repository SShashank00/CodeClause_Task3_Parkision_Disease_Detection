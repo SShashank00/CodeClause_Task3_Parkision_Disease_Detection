{
  "nbformat": 4,
  "nbformat_minor": 0,
  "metadata": {
    "colab": {
      "private_outputs": true,
      "provenance": []
    },
    "kernelspec": {
      "name": "python3",
      "display_name": "Python 3"
    },
    "language_info": {
      "name": "python"
    }
  },
  "cells": [
    {
      "cell_type": "code",
      "execution_count": null,
      "metadata": {
        "id": "89-TKBaSqS0r"
      },
      "outputs": [],
      "source": [
        "import numpy as np\n",
        "import pandas as pd\n",
        "import matplotlib.pyplot as plt\n",
        "%matplotlib inline\n",
        "import seaborn as sns\n",
        "import plotly.express as px"
      ]
    },
    {
      "cell_type": "code",
      "source": [
        "from sklearn.linear_model import LogisticRegression\n",
        "from sklearn.neighbors import KNeighborsClassifier\n",
        "from sklearn.svm import LinearSVC, SVC\n",
        "from sklearn.ensemble import RandomForestClassifier\n",
        "from sklearn.ensemble import BaggingClassifier\n",
        "\n",
        "from sklearn.model_selection import train_test_split\n",
        "from sklearn.metrics import accuracy_score\n",
        "from sklearn.metrics import f1_score\n",
        "from sklearn.metrics import r2_score\n",
        "from sklearn.metrics import precision_score\n",
        "from sklearn.metrics import recall_score\n",
        "from sklearn.metrics import mean_absolute_error\n",
        "from sklearn.metrics import mean_squared_error\n",
        "from sklearn.metrics import roc_auc_score\n",
        "from sklearn.metrics import roc_curve\n",
        "from sklearn.model_selection import GridSearchCV\n",
        "from sklearn.model_selection import RandomizedSearchCV\n",
        "from sklearn.metrics import ConfusionMatrixDisplay"
      ],
      "metadata": {
        "id": "q0u1J_X-tZLV"
      },
      "execution_count": null,
      "outputs": []
    },
    {
      "cell_type": "code",
      "source": [
        "df = pd.read_csv(\"/content/pd_speech_features.csv\")\n",
        "df.head()"
      ],
      "metadata": {
        "id": "iefIS1bvtdRe"
      },
      "execution_count": null,
      "outputs": []
    },
    {
      "cell_type": "code",
      "source": [
        "len(df)"
      ],
      "metadata": {
        "id": "qH7J7efUtkOo"
      },
      "execution_count": null,
      "outputs": []
    },
    {
      "cell_type": "code",
      "source": [
        "df.describe()"
      ],
      "metadata": {
        "id": "_we1iJVJtrlj"
      },
      "execution_count": null,
      "outputs": []
    },
    {
      "cell_type": "code",
      "source": [
        "df.info()"
      ],
      "metadata": {
        "id": "E1-1J6-8ttgu"
      },
      "execution_count": null,
      "outputs": []
    },
    {
      "cell_type": "code",
      "source": [
        "df.columns"
      ],
      "metadata": {
        "id": "Sb5J308EtvGK"
      },
      "execution_count": null,
      "outputs": []
    },
    {
      "cell_type": "code",
      "source": [
        "df.isna().sum()"
      ],
      "metadata": {
        "id": "D5405kGxtw5w"
      },
      "execution_count": null,
      "outputs": []
    },
    {
      "cell_type": "code",
      "source": [
        "df.head()"
      ],
      "metadata": {
        "id": "aehU0Ebetykg"
      },
      "execution_count": null,
      "outputs": []
    },
    {
      "cell_type": "code",
      "source": [
        "sns.distplot(df[\"gender\"], color = \"Green\");"
      ],
      "metadata": {
        "id": "RFaMeLFmt0Hf"
      },
      "execution_count": null,
      "outputs": []
    },
    {
      "cell_type": "code",
      "source": [
        "pd.crosstab(df[\"class\"], df[\"gender\"])"
      ],
      "metadata": {
        "id": "DggkKSJyt1v4"
      },
      "execution_count": null,
      "outputs": []
    },
    {
      "cell_type": "code",
      "source": [
        "condition = [\"Does not have Parkinson's\",\"Does have Parkinson's\"]\n",
        "\n",
        "have_or_not = df[\"class\"].value_counts().tolist()\n",
        "values = [have_or_not[0], have_or_not[1]]\n",
        "\n",
        "fig = px.pie(values = df[\"class\"].value_counts(), names = condition, width = 800, height = 400, color_discrete_sequence = [\"skyblue\", \"violet\"], title = \"Percentage whether patient has Parkinson's or not\")\n",
        "fig.show()"
      ],
      "metadata": {
        "id": "M_x_an7wt4IY"
      },
      "execution_count": null,
      "outputs": []
    },
    {
      "cell_type": "code",
      "source": [
        "df[\"class\"].value_counts().plot(kind = \"bar\", color = [\"skyblue\", \"lightgreen\"]);"
      ],
      "metadata": {
        "id": "gIprdQI3t6SA"
      },
      "execution_count": null,
      "outputs": []
    },
    {
      "cell_type": "code",
      "source": [
        "sns.distplot(df[\"numPulses\"], color = \"maroon\");"
      ],
      "metadata": {
        "id": "857eHOtbt8M1"
      },
      "execution_count": null,
      "outputs": []
    },
    {
      "cell_type": "code",
      "source": [
        "sns.histplot(df[\"numPeriodsPulses\"], color = \"skyblue\");"
      ],
      "metadata": {
        "id": "VbNn_l1_t96F"
      },
      "execution_count": null,
      "outputs": []
    },
    {
      "cell_type": "code",
      "source": [
        "sns.distplot(df[\"meanPeriodPulses\"], color = \"indigo\");"
      ],
      "metadata": {
        "id": "eIR2KKK1t_vO"
      },
      "execution_count": null,
      "outputs": []
    },
    {
      "cell_type": "code",
      "source": [
        "def evaluate(models, X_train, X_test, y_train, y_test):\n",
        "    np.random.seed(42)\n",
        "    model_scores = {}\n",
        "\n",
        "    for name, model in models.items():\n",
        "        model.fit(X_train, y_train)\n",
        "        model_scores[name] = model.score(X_test, y_test)\n",
        "\n",
        "    return model_scores"
      ],
      "metadata": {
        "id": "_7uyYKD3uBht"
      },
      "execution_count": null,
      "outputs": []
    },
    {
      "cell_type": "code",
      "source": [
        "X = df.drop(\"class\", axis = 1)\n",
        "y = df[\"class\"]\n",
        "\n",
        "X_train, X_test, y_train, y_test = train_test_split(X, y, test_size = 0.2)"
      ],
      "metadata": {
        "id": "Gn1z5T73uDWd"
      },
      "execution_count": null,
      "outputs": []
    },
    {
      "cell_type": "code",
      "source": [
        "models = {\n",
        "            \"Linear SVM\": LinearSVC(),\n",
        "            \"Random Forest\": RandomForestClassifier(),\n",
        "            \"KNeighborsClassifier\": KNeighborsClassifier(),\n",
        "            \"Bagging Classifier\": BaggingClassifier()\n",
        "         }"
      ],
      "metadata": {
        "id": "cpwkte4fuFZv"
      },
      "execution_count": null,
      "outputs": []
    },
    {
      "cell_type": "code",
      "source": [
        "model_scores = evaluate(models = models,\n",
        "                        X_train = X_train,\n",
        "                        X_test = X_test,\n",
        "                        y_train = y_train,\n",
        "                        y_test = y_test)\n",
        "\n",
        "model_scores"
      ],
      "metadata": {
        "id": "MflHam7LuGyJ"
      },
      "execution_count": null,
      "outputs": []
    },
    {
      "cell_type": "code",
      "source": [
        "model_scores = model_scores.values()\n",
        "model_scores = list(model_scores)\n",
        "\n",
        "svc = model_scores[0]\n",
        "random_forest = model_scores[1]\n",
        "neighbors = model_scores[2]\n",
        "bagging = model_scores[3]"
      ],
      "metadata": {
        "id": "fJEH5XlYuIWV"
      },
      "execution_count": null,
      "outputs": []
    },
    {
      "cell_type": "code",
      "source": [
        "model_scores"
      ],
      "metadata": {
        "id": "DHDxHhdXuLKu"
      },
      "execution_count": null,
      "outputs": []
    },
    {
      "cell_type": "code",
      "source": [
        "print(f\"Linear SVM: {svc * 100:.2f}%\")\n",
        "print(f\"Random Forest Classifier: {random_forest * 100:.2f}%\")\n",
        "print(f\"KNeighbors Classifier: {neighbors * 100:.2f}%\")\n",
        "print(f\"Bagging Classifier: {bagging * 100:.2f}%\")"
      ],
      "metadata": {
        "id": "srKx2ZY8uM8l"
      },
      "execution_count": null,
      "outputs": []
    },
    {
      "cell_type": "code",
      "source": [
        "np.random.seed(42)\n",
        "\n",
        "model = RandomForestClassifier(n_estimators = 100)\n",
        "model.fit(X_train, y_train)\n",
        "\n",
        "model.score(X_test, y_test)"
      ],
      "metadata": {
        "id": "Zg6F6VWVuOfJ"
      },
      "execution_count": null,
      "outputs": []
    },
    {
      "cell_type": "code",
      "source": [
        "y_preds = model.predict(X_test)"
      ],
      "metadata": {
        "id": "jW0_1N01uQqp"
      },
      "execution_count": null,
      "outputs": []
    },
    {
      "cell_type": "code",
      "source": [
        "def model_report(y_test, y_preds):\n",
        "    print(f\"Accuracy: {accuracy_score(y_test, y_preds) * 100:.2f}%\")\n",
        "    print(f\"Precision: {precision_score(y_test, y_preds)}\")\n",
        "    print(f\"Recall: {recall_score(y_test, y_preds)}\")\n",
        "    print(f\"R2 Score: {r2_score(y_test, y_preds)}\")\n",
        "    print(f\"F1 Score: {f1_score(y_test, y_preds)}\")\n",
        "    print(f\"MAE: {mean_absolute_error(y_test, y_preds)}\")\n",
        "    print(f\"MSE: {mean_squared_error(y_test, y_preds)}\")\n",
        "model_report(y_test, y_preds)"
      ],
      "metadata": {
        "id": "kmpxulMwuSdm"
      },
      "execution_count": null,
      "outputs": []
    },
    {
      "cell_type": "code",
      "source": [
        "ConfusionMatrixDisplay.from_predictions(y_true = y_test, \n",
        "                                        y_pred = y_preds);"
      ],
      "metadata": {
        "id": "S95qbeeduWV2"
      },
      "execution_count": null,
      "outputs": []
    },
    {
      "cell_type": "code",
      "source": [
        "np.random.seed(42)\n",
        "\n",
        "bagging_model = BaggingClassifier()\n",
        "bagging_model.fit(X_train, y_train)\n",
        "\n",
        "bagging_model.score(X_test, y_test)"
      ],
      "metadata": {
        "id": "BTGcyuZDuYJp"
      },
      "execution_count": null,
      "outputs": []
    },
    {
      "cell_type": "code",
      "source": [
        "bagging_preds = bagging_model.predict(X_test)"
      ],
      "metadata": {
        "id": "NLg7rT39uaFh"
      },
      "execution_count": null,
      "outputs": []
    },
    {
      "cell_type": "code",
      "source": [
        "model_report(y_test, bagging_preds)"
      ],
      "metadata": {
        "id": "duX3mWrwub64"
      },
      "execution_count": null,
      "outputs": []
    },
    {
      "cell_type": "code",
      "source": [
        "ConfusionMatrixDisplay.from_predictions(y_true = y_test, \n",
        "                                        y_pred = bagging_preds);"
      ],
      "metadata": {
        "id": "rzjH0Xnvudr8"
      },
      "execution_count": null,
      "outputs": []
    },
    {
      "cell_type": "code",
      "source": [
        "y_probs = model.predict_proba(X_test)\n",
        "y_probs_positive = y_probs[:, 1]\n",
        "y_probs_positive[:10]"
      ],
      "metadata": {
        "id": "lGTkjB3JufaK"
      },
      "execution_count": null,
      "outputs": []
    },
    {
      "cell_type": "code",
      "source": [
        "roc_auc_score(y_test, y_probs_positive)"
      ],
      "metadata": {
        "id": "f-gMEdYkuhBj"
      },
      "execution_count": null,
      "outputs": []
    },
    {
      "cell_type": "code",
      "source": [
        "def plot_roc_curve(fpr, tpr):\n",
        "    plt.plot(fpr, tpr, color = \"green\", label = \"ROC\")\n",
        "\n",
        "    plt.xlabel(\"False positive rate (fpr)\")\n",
        "    plt.ylabel(\"True positive rate (tpr)\")\n",
        "    plt.title(\"Receiver Operating Characteristic (ROC) Curve\")\n",
        "    plt.legend();"
      ],
      "metadata": {
        "id": "wzf8SNwFuiYp"
      },
      "execution_count": null,
      "outputs": []
    },
    {
      "cell_type": "code",
      "source": [
        "fpr, tpr, thresholds = roc_curve(y_test, y_probs_positive)\n",
        "plot_roc_curve(fpr, tpr)"
      ],
      "metadata": {
        "id": "CN7MNaXMukmL"
      },
      "execution_count": null,
      "outputs": []
    },
    {
      "cell_type": "code",
      "source": [
        "ConfusionMatrixDisplay.from_estimator(estimator = model, X = X, y = y);"
      ],
      "metadata": {
        "id": "wIBXasm5umSd"
      },
      "execution_count": null,
      "outputs": []
    },
    {
      "cell_type": "code",
      "source": [
        "ConfusionMatrixDisplay.from_predictions(y_true = y_test, \n",
        "                                        y_pred = y_preds);"
      ],
      "metadata": {
        "id": "QhYNJjRsuo4x"
      },
      "execution_count": null,
      "outputs": []
    },
    {
      "cell_type": "code",
      "source": [
        "model_report(y_test, y_preds)"
      ],
      "metadata": {
        "id": "PcKwq2_DuqUa"
      },
      "execution_count": null,
      "outputs": []
    }
  ]
}